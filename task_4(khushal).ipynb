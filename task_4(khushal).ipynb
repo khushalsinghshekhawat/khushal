{
  "nbformat": 4,
  "nbformat_minor": 0,
  "metadata": {
    "colab": {
      "name": "Bharat Chhedwal (GO_STP_11643).ipynb",
      "provenance": [],
      "collapsed_sections": [],
      "include_colab_link": true
    },
    "kernelspec": {
      "name": "python3",
      "display_name": "Python 3"
    },
    "language_info": {
      "name": "python"
    }
  },
  "cells": [
    {
      "cell_type": "markdown",
      "metadata": {
        "id": "view-in-github",
        "colab_type": "text"
      },
      "source": [
        "<a href=\"https://colab.research.google.com/github/khushalsinghshekhawat/khushal/blob/main/task_4(khushal).ipynb\" target=\"_parent\"><img src=\"https://colab.research.google.com/assets/colab-badge.svg\" alt=\"Open In Colab\"/></a>"
      ]
    },
    {
      "cell_type": "markdown",
      "metadata": {
        "id": "pHMY6RCPUZgA"
      },
      "source": [
        "#Khushal Singh Shekhawat\n",
        "TASK 4\n",
        " \n",
        "GO_STP_8909"
      ]
    },
    {
      "cell_type": "markdown",
      "metadata": {
        "id": "_1Hga5XdU83h"
      },
      "source": [
        "Q1. Import the numpy package under the name np and Print the numpy version and the configuration."
      ]
    },
    {
      "cell_type": "code",
      "metadata": {
        "colab": {
          "base_uri": "https://localhost:8080/"
        },
        "id": "8VeG_EffVdgD",
        "outputId": "d6555ad4-e17e-49a0-aee8-0063267870b0"
      },
      "source": [
        "pip install numpy"
      ],
      "execution_count": null,
      "outputs": [
        {
          "output_type": "stream",
          "text": [
            "Requirement already satisfied: numpy in /usr/local/lib/python3.7/dist-packages (1.19.5)\n"
          ],
          "name": "stdout"
        }
      ]
    },
    {
      "cell_type": "code",
      "metadata": {
        "colab": {
          "base_uri": "https://localhost:8080/"
        },
        "id": "sHNmu2BvT1aH",
        "outputId": "a3dbb976-ee42-4c50-eeb0-e01dc682098f"
      },
      "source": [
        "import numpy as np\n",
        "print(np.__version__)\n",
        "np.show_config()"
      ],
      "execution_count": null,
      "outputs": [
        {
          "output_type": "stream",
          "text": [
            "1.19.5\n",
            "blas_mkl_info:\n",
            "  NOT AVAILABLE\n",
            "blis_info:\n",
            "  NOT AVAILABLE\n",
            "openblas_info:\n",
            "    libraries = ['openblas', 'openblas']\n",
            "    library_dirs = ['/usr/local/lib']\n",
            "    language = c\n",
            "    define_macros = [('HAVE_CBLAS', None)]\n",
            "blas_opt_info:\n",
            "    libraries = ['openblas', 'openblas']\n",
            "    library_dirs = ['/usr/local/lib']\n",
            "    language = c\n",
            "    define_macros = [('HAVE_CBLAS', None)]\n",
            "lapack_mkl_info:\n",
            "  NOT AVAILABLE\n",
            "openblas_lapack_info:\n",
            "    libraries = ['openblas', 'openblas']\n",
            "    library_dirs = ['/usr/local/lib']\n",
            "    language = c\n",
            "    define_macros = [('HAVE_CBLAS', None)]\n",
            "lapack_opt_info:\n",
            "    libraries = ['openblas', 'openblas']\n",
            "    library_dirs = ['/usr/local/lib']\n",
            "    language = c\n",
            "    define_macros = [('HAVE_CBLAS', None)]\n"
          ],
          "name": "stdout"
        }
      ]
    },
    {
      "cell_type": "markdown",
      "metadata": {
        "id": "ZlntO6vEWD1k"
      },
      "source": [
        "Q2. Create a null vector of size 10."
      ]
    },
    {
      "cell_type": "code",
      "metadata": {
        "colab": {
          "base_uri": "https://localhost:8080/"
        },
        "id": "eVOgstNQVXc-",
        "outputId": "38415cc6-4981-4a66-b73f-819d2b9579be"
      },
      "source": [
        "m =np.zeros(10)\n",
        "print(\"Result\",m)"
      ],
      "execution_count": null,
      "outputs": [
        {
          "output_type": "stream",
          "text": [
            "Result [0. 0. 0. 0. 0. 0. 0. 0. 0. 0.]\n"
          ],
          "name": "stdout"
        }
      ]
    },
    {
      "cell_type": "markdown",
      "metadata": {
        "id": "erSgB9uwWWYR"
      },
      "source": [
        "Q3. Create Simple 1-D array and check type and check data types in array."
      ]
    },
    {
      "cell_type": "code",
      "metadata": {
        "colab": {
          "base_uri": "https://localhost:8080/"
        },
        "id": "hATDCB6fWLCs",
        "outputId": "f2cdaa6e-413b-47f0-b6bc-b8388720a8a9"
      },
      "source": [
        "arr = np.array([10,20,30,40,50,60])\n",
        "print(\"Type of array\", type(arr))\n",
        "print(\"Data types in array\", arr.dtype)"
      ],
      "execution_count": null,
      "outputs": [
        {
          "output_type": "stream",
          "text": [
            "Type of array <class 'numpy.ndarray'>\n",
            "Data types in array int64\n"
          ],
          "name": "stdout"
        }
      ]
    },
    {
      "cell_type": "markdown",
      "metadata": {
        "id": "LybRrIg8XDZt"
      },
      "source": [
        "Q4. How to find number of dimensions, bytes per element and bytes of memory used?"
      ]
    },
    {
      "cell_type": "code",
      "metadata": {
        "colab": {
          "base_uri": "https://localhost:8080/"
        },
        "id": "I_qmWdbEW8JC",
        "outputId": "b85d5025-fffb-45c8-a721-916328ec15d0"
      },
      "source": [
        "dimn = arr.ndim\n",
        "print(\"Number of dimensions : \",dimn)\n",
        "bytesperele = arr.itemsize\n",
        "print(\"Bytes per element : \",bytesperele)\n",
        "bytesused = arr.nbytes\n",
        "print(\"Bytes of memory used : \",bytesused)"
      ],
      "execution_count": null,
      "outputs": [
        {
          "output_type": "stream",
          "text": [
            "Number of dimensions :  1\n",
            "Bytes per element :  8\n",
            "Bytes of memory used :  48\n"
          ],
          "name": "stdout"
        }
      ]
    },
    {
      "cell_type": "markdown",
      "metadata": {
        "id": "ThYMmfRGX2nS"
      },
      "source": [
        "Q5. Create a null vector of size 10 but the fifth value which is 1."
      ]
    },
    {
      "cell_type": "code",
      "metadata": {
        "colab": {
          "base_uri": "https://localhost:8080/"
        },
        "id": "9_fR5mvIXkLU",
        "outputId": "25f21447-d3b8-497e-82ce-b987f9546674"
      },
      "source": [
        "vector =np.zeros(10)\n",
        "vector[4] =1\n",
        "print(\"The required vector : \",vector)"
      ],
      "execution_count": null,
      "outputs": [
        {
          "output_type": "stream",
          "text": [
            "The required vector :  [0. 0. 0. 0. 1. 0. 0. 0. 0. 0.]\n"
          ],
          "name": "stdout"
        }
      ]
    },
    {
      "cell_type": "markdown",
      "metadata": {
        "id": "0otDxfsfYMZa"
      },
      "source": [
        "Q6. Create a vector with values ranging from 10 to 49."
      ]
    },
    {
      "cell_type": "code",
      "metadata": {
        "colab": {
          "base_uri": "https://localhost:8080/"
        },
        "id": "B5oCRlPIYJ6E",
        "outputId": "3a30a829-d165-4cc3-a91a-422c1b54f9df"
      },
      "source": [
        "requiredvector = np.arange(10,50)\n",
        "print(\"The vector with values ranging from 10 to 49 : \\n\" ,requiredvector)"
      ],
      "execution_count": null,
      "outputs": [
        {
          "output_type": "stream",
          "text": [
            "The vector with values ranging from 10 to 49 : \n",
            " [10 11 12 13 14 15 16 17 18 19 20 21 22 23 24 25 26 27 28 29 30 31 32 33\n",
            " 34 35 36 37 38 39 40 41 42 43 44 45 46 47 48 49]\n"
          ],
          "name": "stdout"
        }
      ]
    },
    {
      "cell_type": "markdown",
      "metadata": {
        "id": "zoAO0oNiYnHR"
      },
      "source": [
        "Q7. Reverse a vector (first element becomes last)."
      ]
    },
    {
      "cell_type": "code",
      "metadata": {
        "colab": {
          "base_uri": "https://localhost:8080/"
        },
        "id": "wsnwq8TCYh8N",
        "outputId": "2b758d40-55e2-4c3b-e0a7-767e0c5678c4"
      },
      "source": [
        "vctr = np.arange(34,43)\n",
        "print(\"Original Vector : \",vctr)\n",
        "revvec = vctr[::-1]\n",
        "print(\"Reversed vector : \",revvec)"
      ],
      "execution_count": null,
      "outputs": [
        {
          "output_type": "stream",
          "text": [
            "Original Vector :  [34 35 36 37 38 39 40 41 42]\n",
            "Reversed vector :  [42 41 40 39 38 37 36 35 34]\n"
          ],
          "name": "stdout"
        }
      ]
    },
    {
      "cell_type": "markdown",
      "metadata": {
        "id": "UpTvjGSnZJft"
      },
      "source": [
        "Q8. Create a 3x3 matrix with values ranging from 0 to 8."
      ]
    },
    {
      "cell_type": "code",
      "metadata": {
        "colab": {
          "base_uri": "https://localhost:8080/"
        },
        "id": "c6SjIRMaZG6l",
        "outputId": "b71d39fc-69c4-4a87-a731-097de4447c10"
      },
      "source": [
        "matrx =np.arange(9).reshape(3,3)\n",
        "print(\"The required matrix: \\n\",matrx)"
      ],
      "execution_count": null,
      "outputs": [
        {
          "output_type": "stream",
          "text": [
            "The required matrix: \n",
            " [[0 1 2]\n",
            " [3 4 5]\n",
            " [6 7 8]]\n"
          ],
          "name": "stdout"
        }
      ]
    },
    {
      "cell_type": "markdown",
      "metadata": {
        "id": "-8YXOwEiZsdC"
      },
      "source": [
        "Q9. Find indices of non-zero elements from [1,2,0,0,4,0]."
      ]
    },
    {
      "cell_type": "code",
      "metadata": {
        "colab": {
          "base_uri": "https://localhost:8080/"
        },
        "id": "dwS0qvIcZoDs",
        "outputId": "85d66899-0d49-4c69-d25e-dc99bcb79b89"
      },
      "source": [
        "nonz =np.nonzero([1,2,0,0,4,0])\n",
        "print(\"Required answer : \",nonz)"
      ],
      "execution_count": null,
      "outputs": [
        {
          "output_type": "stream",
          "text": [
            "Required answer :  (array([0, 1, 4]),)\n"
          ],
          "name": "stdout"
        }
      ]
    },
    {
      "cell_type": "markdown",
      "metadata": {
        "id": "gdhmySiOar2I"
      },
      "source": [
        "Q10. Create a 3x3 identity matrix."
      ]
    },
    {
      "cell_type": "code",
      "metadata": {
        "colab": {
          "base_uri": "https://localhost:8080/"
        },
        "id": "PPKByTIpanFe",
        "outputId": "3cbf7b6a-a946-43b5-f837-717683b709c2"
      },
      "source": [
        "identitymat = np.eye(3)\n",
        "print(\"Identity matrix of order 3:\\n \",identitymat)"
      ],
      "execution_count": null,
      "outputs": [
        {
          "output_type": "stream",
          "text": [
            "Identity matrix of order 3:\n",
            "  [[1. 0. 0.]\n",
            " [0. 1. 0.]\n",
            " [0. 0. 1.]]\n"
          ],
          "name": "stdout"
        }
      ]
    },
    {
      "cell_type": "markdown",
      "metadata": {
        "id": "bUDsp7iDbCFo"
      },
      "source": [
        "Q11. Create a 3x3x3 array with random values."
      ]
    },
    {
      "cell_type": "code",
      "metadata": {
        "colab": {
          "base_uri": "https://localhost:8080/"
        },
        "id": "jbor11vda71-",
        "outputId": "04f3c73b-696f-4f3f-c9d8-da38ad00e623"
      },
      "source": [
        "ans = np.random.random([3,3,3])\n",
        "print(\"Answer\\n\",ans)"
      ],
      "execution_count": null,
      "outputs": [
        {
          "output_type": "stream",
          "text": [
            "Answer\n",
            " [[[0.84687907 0.60248025 0.72667055]\n",
            "  [0.19414313 0.22947543 0.2121572 ]\n",
            "  [0.27463266 0.53986038 0.5155627 ]]\n",
            "\n",
            " [[0.01918435 0.17360207 0.51284366]\n",
            "  [0.03882865 0.94246095 0.72102212]\n",
            "  [0.68267688 0.19100416 0.73186868]]\n",
            "\n",
            " [[0.75387516 0.96066831 0.80203511]\n",
            "  [0.37616652 0.17382283 0.21887031]\n",
            "  [0.16998128 0.85908893 0.93813566]]]\n"
          ],
          "name": "stdout"
        }
      ]
    },
    {
      "cell_type": "markdown",
      "metadata": {
        "id": "Lri6CcwDbfxv"
      },
      "source": [
        "Q12. Create a 10x10 array with random values and find the minimum and maximum values."
      ]
    },
    {
      "cell_type": "code",
      "metadata": {
        "colab": {
          "base_uri": "https://localhost:8080/"
        },
        "id": "LEKSX0aDbVCD",
        "outputId": "2e2943dc-da9c-4bcc-c281-dd392c1de4b4"
      },
      "source": [
        "rm = np.random.random([10,10])\n",
        "print(\"Array Created\\n\",rm)\n",
        "print(\"Maximum Value : \",rm.max())\n",
        "print(\"Minimum Value : \",rm.min())"
      ],
      "execution_count": null,
      "outputs": [
        {
          "output_type": "stream",
          "text": [
            "Array Created\n",
            " [[0.90869628 0.08701569 0.60096492 0.203506   0.80287322 0.51292186\n",
            "  0.30347704 0.737997   0.53357954 0.14243754]\n",
            " [0.47049994 0.69688168 0.72513089 0.88239497 0.13468283 0.64596323\n",
            "  0.68695432 0.55780769 0.45838716 0.29802912]\n",
            " [0.79097201 0.12448369 0.16836145 0.0441974  0.03960462 0.05822307\n",
            "  0.5004591  0.9903473  0.34864684 0.25018789]\n",
            " [0.5208737  0.92459056 0.32526528 0.6986989  0.70144049 0.17543366\n",
            "  0.46677692 0.645744   0.82874021 0.70064543]\n",
            " [0.43101538 0.23092399 0.2023919  0.14420851 0.65287227 0.88255037\n",
            "  0.20367704 0.72699712 0.44251346 0.61136175]\n",
            " [0.00770888 0.63835142 0.15317279 0.55698827 0.93040827 0.80044841\n",
            "  0.08611908 0.68279559 0.28748113 0.45542729]\n",
            " [0.45500688 0.81098299 0.14333941 0.82580358 0.56141668 0.1483682\n",
            "  0.34516171 0.49356786 0.78302408 0.6949721 ]\n",
            " [0.15973111 0.65705172 0.37410083 0.04023046 0.71075673 0.24127803\n",
            "  0.02526004 0.67700154 0.38662562 0.57977147]\n",
            " [0.87211843 0.45964787 0.79855738 0.82440127 0.02402729 0.56819539\n",
            "  0.54315668 0.53596087 0.10099783 0.30741981]\n",
            " [0.25382955 0.16690802 0.71412998 0.50362958 0.18538598 0.17076153\n",
            "  0.41219982 0.57351284 0.196847   0.27152237]]\n",
            "Maximum Value :  0.9903472990157891\n",
            "Minimum Value :  0.007708883089629914\n"
          ],
          "name": "stdout"
        }
      ]
    },
    {
      "cell_type": "markdown",
      "metadata": {
        "id": "UiZq9Qh-cOQ3"
      },
      "source": [
        "Q13. Create a random vector of size 30 and find the mean value."
      ]
    },
    {
      "cell_type": "code",
      "metadata": {
        "colab": {
          "base_uri": "https://localhost:8080/"
        },
        "id": "9chiQm_UcAe3",
        "outputId": "3c0db52a-34a9-47f1-e86e-c8eb2e21b3ff"
      },
      "source": [
        "rvector = np.random.random(30)\n",
        "print(\"The Vector is :\\n\",rvector)\n",
        "print(\"Mean Value : \",rvector.mean())"
      ],
      "execution_count": null,
      "outputs": [
        {
          "output_type": "stream",
          "text": [
            "The Vector is :\n",
            " [0.81815643 0.74327586 0.66501756 0.51841631 0.22173348 0.28146676\n",
            " 0.79770068 0.37408494 0.89306888 0.11491305 0.34206096 0.16499975\n",
            " 0.43595225 0.52295182 0.29205962 0.91504426 0.49247651 0.80142587\n",
            " 0.83993696 0.85975059 0.19908194 0.43177622 0.40381664 0.32419303\n",
            " 0.21178046 0.44217963 0.68971335 0.3600259  0.18438828 0.62210939]\n",
            "Mean Value :  0.498785247063882\n"
          ],
          "name": "stdout"
        }
      ]
    },
    {
      "cell_type": "markdown",
      "metadata": {
        "id": "_JoGD3awctKu"
      },
      "source": [
        "Q14. Create a 2d array with 1 on the border and 0 inside."
      ]
    },
    {
      "cell_type": "code",
      "metadata": {
        "colab": {
          "base_uri": "https://localhost:8080/"
        },
        "id": "76iq-4pKcgKr",
        "outputId": "9fbb2aac-1d2f-40f0-89e4-e51c4466dfa1"
      },
      "source": [
        "arr2 = np.ones([5,5])\n",
        "arr2[1:-1,1:-1] = 0\n",
        "print(\"The Required 2d array is :\\n\",arr2)"
      ],
      "execution_count": null,
      "outputs": [
        {
          "output_type": "stream",
          "text": [
            "The Required 2d array is :\n",
            " [[1. 1. 1. 1. 1.]\n",
            " [1. 0. 0. 0. 1.]\n",
            " [1. 0. 0. 0. 1.]\n",
            " [1. 0. 0. 0. 1.]\n",
            " [1. 1. 1. 1. 1.]]\n"
          ],
          "name": "stdout"
        }
      ]
    },
    {
      "cell_type": "markdown",
      "metadata": {
        "id": "QYMvbYHOdsnR"
      },
      "source": [
        "Q15. How to add a border (filled with 0's) around an existing array? "
      ]
    },
    {
      "cell_type": "code",
      "metadata": {
        "colab": {
          "base_uri": "https://localhost:8080/"
        },
        "id": "svl-KHGxdVQN",
        "outputId": "e71f17a2-9c3c-4a6a-ce8b-1aa103c86079"
      },
      "source": [
        "#Z =np.ones((5,5))\n",
        "#Z =np.pad(Z, pad_width=1, mode='constant', constant_values=0)\n",
        "#print(Z)\n",
        "existing = np.ones([5,5])\n",
        "existing[0,:] = 0\n",
        "existing[-1,:] = 0\n",
        "existing[:,-1] = 0\n",
        "existing[:,0] = 0\n",
        "print(\"The required array :\\n\",existing)"
      ],
      "execution_count": null,
      "outputs": [
        {
          "output_type": "stream",
          "text": [
            "The required array :\n",
            " [[0. 0. 0. 0. 0.]\n",
            " [0. 1. 1. 1. 0.]\n",
            " [0. 1. 1. 1. 0.]\n",
            " [0. 1. 1. 1. 0.]\n",
            " [0. 0. 0. 0. 0.]]\n"
          ],
          "name": "stdout"
        }
      ]
    },
    {
      "cell_type": "markdown",
      "metadata": {
        "id": "rjAvoikkfqO7"
      },
      "source": [
        "Q16. How to Access/Change specific elements, rows, columns, etc in Numpy array?\n",
        "\n",
        "Example -\n",
        "[[ 1 2 3 4 5 6 7] [ 8 9 10 11 12 13 14]]\n",
        "\n",
        "\n",
        "Get 13, get first row only, get 3rd column only, get [2, 4, 6], replace 13 by 20"
      ]
    },
    {
      "cell_type": "code",
      "metadata": {
        "colab": {
          "base_uri": "https://localhost:8080/"
        },
        "id": "Igjjkry7d_YT",
        "outputId": "eef45482-eace-4b67-b52b-0dfb6db7a3e3"
      },
      "source": [
        "arr = np.array([np.arange(1,8),np.arange(8,15)])\n",
        "print(arr)\n",
        "print(\"Element 13 : \",arr[1,5])\n",
        "print(\"First Row : \",arr[0,:])\n",
        "print(\"Third Column : \",arr[:,2])\n",
        "print(\"Printing 2,4,6 from array : \",arr[0,1:6:2])\n",
        "arr[1,5] = 20\n",
        "print(\"New array after replacing 13 by 20 :\\n\",arr)"
      ],
      "execution_count": null,
      "outputs": [
        {
          "output_type": "stream",
          "text": [
            "[[ 1  2  3  4  5  6  7]\n",
            " [ 8  9 10 11 12 13 14]]\n",
            "Element 13 :  13\n",
            "First Row :  [1 2 3 4 5 6 7]\n",
            "Third Column :  [ 3 10]\n",
            "Printing 2,4,6 from array :  [2 4 6]\n",
            "New array after replacing 13 by 20 :\n",
            " [[ 1  2  3  4  5  6  7]\n",
            " [ 8  9 10 11 12 20 14]]\n"
          ],
          "name": "stdout"
        }
      ]
    },
    {
      "cell_type": "markdown",
      "metadata": {
        "id": "RuhBrtI9jk4I"
      },
      "source": [
        "Q17. How to Convert a 1D array to a 2D array with 2 rows?"
      ]
    },
    {
      "cell_type": "code",
      "metadata": {
        "colab": {
          "base_uri": "https://localhost:8080/"
        },
        "id": "3cCVj8DphB6y",
        "outputId": "64b5bcad-6c41-4dc7-c6e5-8fb8463448dc"
      },
      "source": [
        "arr1d = np.random.random(10)\n",
        "print(\"1D array : \",arr1d)\n",
        "arr2d = arr1d.reshape(2,5)\n",
        "print(\"Modified 2D array :\\n\",arr2d)"
      ],
      "execution_count": null,
      "outputs": [
        {
          "output_type": "stream",
          "text": [
            "1D array :  [0.73424313 0.87467924 0.18858815 0.90369651 0.18738045 0.11445494\n",
            " 0.56862969 0.06212416 0.9338453  0.62272243]\n",
            "Modified 2D array :\n",
            " [[0.73424313 0.87467924 0.18858815 0.90369651 0.18738045]\n",
            " [0.11445494 0.56862969 0.06212416 0.9338453  0.62272243]]\n"
          ],
          "name": "stdout"
        }
      ]
    },
    {
      "cell_type": "markdown",
      "metadata": {
        "id": "SdjC_bL7koRJ"
      },
      "source": [
        "Q18. Create the following pattern without hardcoding. Use only numpy functions and the below input array a.\n",
        "\n",
        "Input:\n",
        "\n",
        "a = np.array([1,2,3])\n",
        "\n",
        "Desired Output:\n",
        "\n",
        "> array([1, 1, 1, 2, 2, 2, 3, 3, 3, 1, 2, 3, 1, 2, 3, 1, 2, 3])"
      ]
    },
    {
      "cell_type": "code",
      "metadata": {
        "colab": {
          "base_uri": "https://localhost:8080/"
        },
        "id": "ueChhaLpkLB5",
        "outputId": "a1af5ac9-75a9-4235-9c91-fe1ce8f5bc17"
      },
      "source": [
        "a = np.array([1,2,3])\n",
        "print(\"Initial Array :\\n\",a)\n",
        "new = np.append(np.repeat(a,3),np.tile(a,3))\n",
        "print(\"Output :\\n\",new)"
      ],
      "execution_count": null,
      "outputs": [
        {
          "output_type": "stream",
          "text": [
            "Initial Array :\n",
            " [1 2 3]\n",
            "Output :\n",
            " [1 1 1 2 2 2 3 3 3 1 2 3 1 2 3 1 2 3]\n"
          ],
          "name": "stdout"
        }
      ]
    },
    {
      "cell_type": "markdown",
      "metadata": {
        "id": "1D7a-PgZmRUO"
      },
      "source": [
        "Q19. Write a program to show how Numpy taking less memory compared to Python List?"
      ]
    },
    {
      "cell_type": "code",
      "metadata": {
        "id": "7EQmzBpLmMWQ",
        "colab": {
          "base_uri": "https://localhost:8080/"
        },
        "outputId": "e1facb5c-2e0c-4b70-e3e2-c7fce56810fe"
      },
      "source": [
        "#memory allocation\n",
        "\n",
        "l = range(1000)\n",
        "\n",
        "import sys\n",
        "print(\"LIST\")\n",
        "a=10\n",
        "print(\"Memory allocated to one element : \",sys.getsizeof(a))   #memory allocated to a\n",
        "print(\"Total Memory taken by list : \",sys.getsizeof(a)*len(l))\n",
        "\n",
        "print(\"NUMPY ARRAY\")\n",
        "a1 = np.arange(1000)\n",
        "print(\"Memory allocated to one element : \",a1.size)\n",
        "print(\"Total Memory taken by Numpy array : \",a1.size*a1.itemsize)\n",
        "#conclusion: numpy takes less memory allocation than list"
      ],
      "execution_count": null,
      "outputs": [
        {
          "output_type": "stream",
          "text": [
            "LIST\n",
            "Memory allocated to one element :  28\n",
            "Total Memory taken by list :  28000\n",
            "NUMPY ARRAY\n",
            "Memory allocated to one element :  1000\n",
            "Total Memory taken by Numpy array :  8000\n"
          ],
          "name": "stdout"
        }
      ]
    },
    {
      "cell_type": "markdown",
      "metadata": {
        "id": "SxSGNJFmohgH"
      },
      "source": [
        "Q20. Write a program to show how Numpy taking less time compared to Python List?"
      ]
    },
    {
      "cell_type": "code",
      "metadata": {
        "id": "Qm05q4kon5EO",
        "colab": {
          "base_uri": "https://localhost:8080/"
        },
        "outputId": "7b6ceb38-aa32-461c-f7f7-19436a511ff9"
      },
      "source": [
        "#Numpy vs List -- speed\n",
        "import numpy as np\n",
        "import time\n",
        "import sys\n",
        "\n",
        "size = 1000000\n",
        "l1 = range(size)\n",
        "l2 = range(size)\n",
        "\n",
        "n1 = np.arange(size)\n",
        "n2 = np.arange(size)\n",
        "\n",
        "#list itemwise sum\n",
        "start = time.time()\n",
        "result = [(x+y) for x,y in zip(l1,l2)]\n",
        "print(\"Time taken by Python List : \",(time.time()-start)*1000)\n",
        "\n",
        "#numpy array itemwise sum\n",
        "start = time.time()\n",
        "result1 = n1+n2\n",
        "print(\"Time taken by NumPy Array : \",(time.time()-start)*1000)\n"
      ],
      "execution_count": null,
      "outputs": [
        {
          "output_type": "stream",
          "text": [
            "Time taken by Python List :  163.05971145629883\n",
            "Time taken by NumPy Array :  2.717256546020508\n"
          ],
          "name": "stdout"
        }
      ]
    }
  ]
}