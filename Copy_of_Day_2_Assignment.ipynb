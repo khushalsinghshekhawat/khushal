{
  "nbformat": 4,
  "nbformat_minor": 0,
  "metadata": {
    "colab": {
      "name": "Copy of Day-2 Assignment",
      "provenance": [],
      "include_colab_link": true
    },
    "kernelspec": {
      "name": "python3",
      "display_name": "Python 3"
    },
    "language_info": {
      "name": "python"
    },
    "accelerator": "GPU"
  },
  "cells": [
    {
      "cell_type": "markdown",
      "metadata": {
        "id": "view-in-github",
        "colab_type": "text"
      },
      "source": [
        "<a href=\"https://colab.research.google.com/github/khushalsinghshekhawat/khushal/blob/main/Copy_of_Day_2_Assignment.ipynb\" target=\"_parent\"><img src=\"https://colab.research.google.com/assets/colab-badge.svg\" alt=\"Open In Colab\"/></a>"
      ]
    },
    {
      "cell_type": "markdown",
      "metadata": {
        "id": "i0s115-rEp-w"
      },
      "source": [
        "## Task 1"
      ]
    },
    {
      "cell_type": "markdown",
      "metadata": {
        "id": "ttjbVIoyLg9_"
      },
      "source": [
        "GO_STP_8909"
      ]
    },
    {
      "cell_type": "markdown",
      "metadata": {
        "id": "UtY4Ge_MJ_VS"
      },
      "source": [
        "1.We are having 3 list like this\n",
        "\n",
        "Colors = [“Yellow”,”Green”,”White”,”Black”]\n",
        "\n",
        "Fruits=[“Apple”,”Papaya”,”Mango”,”Orange”]\n",
        "\n",
        "Animals=[“Tiger”,”Lion”,”Deer”,”Zebra”]\n",
        "\n",
        "  i. Write a program that asks user to enter a Color/Fruit/Animal name and it should tell which category belongs to , like its is a fruit or color or Animal\n",
        "\n",
        " ii. Write a program that asks user to enter two cities and it tells you if they both are in same country or not. For example if I enter yellow and Black, it will print \"Both are colors\" but if I enter yellow and Tiger it should print \"They don't belong to same category\""
      ]
    },
    {
      "cell_type": "code",
      "metadata": {
        "id": "jbx1-FTREW7E",
        "colab": {
          "base_uri": "https://localhost:8080/"
        },
        "outputId": "280dac0e-8856-4c45-a821-2cfa42ccbdff"
      },
      "source": [
        "#1\n",
        "Colors = ['Yellow','Green','White','Black']\n",
        "Fruits=['Apple','Papaya','Mango','Orange']\n",
        "Animals=['Tiger','Lion','Deer','Zebra']\n",
        "name=input(\"Choice\") \n",
        "if name in Colors:\n",
        "  print(name,\"is Color\")\n",
        "elif name in Fruits:\n",
        "  print(name,\"is Fruit\")\n",
        "elif name in Animals:\n",
        "  print(name,\"is Animal\")\n",
        "else:\n",
        "  print(\"No such list name avaiable\")"
      ],
      "execution_count": null,
      "outputs": [
        {
          "output_type": "stream",
          "text": [
            "ChoiceLion\n",
            "Lion is Animal\n"
          ],
          "name": "stdout"
        }
      ]
    },
    {
      "cell_type": "code",
      "metadata": {
        "id": "i_j5F_CQFwXB",
        "colab": {
          "base_uri": "https://localhost:8080/"
        },
        "outputId": "849ee6be-ad83-4fc4-ad75-50c554416b55"
      },
      "source": [
        "#2\n",
        "choice1=input('First choice')\n",
        "choice2=input('Second Choice')\n",
        "if choice1 in Colors:\n",
        "  if choice2 in Colors:\n",
        "    print(\"Both are colors\")\n",
        "  else:\n",
        "    print(\"They don't belong to same category\")\n",
        "elif choice1 in Fruits:\n",
        "    if choice2 in Fruits:\n",
        "      print(\"Both are colors\")\n",
        "    else:\n",
        "      print(\"They don't belong to same category\")\n",
        "else:\n",
        "  if choice2 in Animals:\n",
        "    print(\"Both are colors\")\n",
        "  else:\n",
        "    print(\"They don't belong to same category\")"
      ],
      "execution_count": null,
      "outputs": [
        {
          "output_type": "stream",
          "text": [
            "First choiceYellow\n",
            "Second ChoiceMango\n",
            "They don't belong to same category\n"
          ],
          "name": "stdout"
        }
      ]
    },
    {
      "cell_type": "markdown",
      "metadata": {
        "id": "jT1NU233KF_B"
      },
      "source": [
        "2.Write a python program that can tell you if your grade score good or not . Good Score range is 40 to 60.\n",
        "\n",
        "  i. Ask user to enter his score.\n",
        "\n",
        "  ii. If it is below 40 to 60 range then print that score is low\n",
        "\n",
        "  iii. If it is above 60 then print that it is good otherwise print that it is norma"
      ]
    },
    {
      "cell_type": "code",
      "metadata": {
        "id": "TdbS-TUkJpDS",
        "colab": {
          "base_uri": "https://localhost:8080/"
        },
        "outputId": "3fbf6159-ca05-43c0-9422-ad80759e801f"
      },
      "source": [
        "num=int(input(\"Your Score \"))\n",
        "if num<=40:\n",
        "  print(\"score is low\")\n",
        "elif num in range(40,60):\n",
        "  print(\"it is normal\")\n",
        "elif num>=60:\n",
        "  print(\"good\")"
      ],
      "execution_count": null,
      "outputs": [
        {
          "output_type": "stream",
          "text": [
            "Your Score 20\n",
            "score is low\n"
          ],
          "name": "stdout"
        }
      ]
    },
    {
      "cell_type": "markdown",
      "metadata": {
        "id": "5FKJ_A5FOhfS"
      },
      "source": [
        "3.After appearing in exam 10 times you got this result,\n",
        "\n",
        "result = [\"Pass\",\"Fail\",\"Fail\",\"Pass\",\"Fail\",\"Pass\",\"Pass\",\"Fail\",\"Fail\",\"Fail\"]\n",
        "\n",
        "Using for loop figure out how many times you got Pass"
      ]
    },
    {
      "cell_type": "code",
      "metadata": {
        "id": "kp2QASOjMKAJ",
        "colab": {
          "base_uri": "https://localhost:8080/"
        },
        "outputId": "a47c17d5-0a99-4c49-8a61-71cb69c7eb23"
      },
      "source": [
        "result = [\"Pass\",\"Fail\",\"Fail\",\"Pass\",\"Fail\",\"Pass\",\"Pass\",\"Fail\",\"Fail\",\"Fail\"]\n",
        "count=0\n",
        "for item in result:\n",
        "  if item is \"Pass\":\n",
        "    count+=1\n",
        "print(count)"
      ],
      "execution_count": null,
      "outputs": [
        {
          "output_type": "stream",
          "text": [
            "4\n"
          ],
          "name": "stdout"
        }
      ]
    },
    {
      "cell_type": "markdown",
      "metadata": {
        "id": "6_2B32TgRGzi"
      },
      "source": [
        "4.Write a program that prints following shape"
      ]
    },
    {
      "cell_type": "code",
      "metadata": {
        "id": "vdJOIJLNPWBf",
        "colab": {
          "base_uri": "https://localhost:8080/"
        },
        "outputId": "f5f4c41b-c278-4c76-fec0-697daac62beb"
      },
      "source": [
        "for i in range(0,5):\n",
        "  for j in range(0,5):\n",
        "    if j<=i:\n",
        "      print(\"*\",end=\"\")\n",
        "    else:\n",
        "      print(\" \",end=\"\")\n",
        "  print(\"\")\n",
        "for i in range(0,4):\n",
        "  for j in range(0,4):\n",
        "    if j<(4-i):\n",
        "      print(\"*\",end=\"\")\n",
        "    else:\n",
        "      print(\" \",end=\"\")\n",
        "  print(\"\")"
      ],
      "execution_count": null,
      "outputs": [
        {
          "output_type": "stream",
          "text": [
            "*    \n",
            "**   \n",
            "***  \n",
            "**** \n",
            "*****\n",
            "****\n",
            "*** \n",
            "**  \n",
            "*   \n"
          ],
          "name": "stdout"
        }
      ]
    },
    {
      "cell_type": "markdown",
      "metadata": {
        "id": "aBaB7knkTEZs"
      },
      "source": [
        "5.Lets say you are running a 50 km race. Write a program that,\n",
        "\n",
        "Upon completing each 10 km asks you \"are you tired?\"\n",
        "\n",
        "If you reply \"yes\" then it should break and print \"you didn't finish the race\"\n",
        "\n",
        "If you reply \"no\" then it should continue and ask \"are you tired\" on every km\n",
        "\n",
        "If you finish all 50 km then it should print congratulations message"
      ]
    },
    {
      "cell_type": "code",
      "metadata": {
        "id": "GKtkTqSUSNPp",
        "colab": {
          "base_uri": "https://localhost:8080/"
        },
        "outputId": "3d5c796d-d60c-42fa-b172-05aac4a8c159"
      },
      "source": [
        "flag=True\n",
        "for _ in range(0,50,10):\n",
        "  s=input(\"are you tired? \\n\")\n",
        "  if s=='no':\n",
        "    continue\n",
        "  else:\n",
        "    flag=False\n",
        "    break\n",
        "if flag:\n",
        "  print(\"congratulations\")"
      ],
      "execution_count": null,
      "outputs": [
        {
          "output_type": "stream",
          "text": [
            "are you tired? \n",
            "no\n",
            "are you tired? \n",
            "no\n",
            "are you tired? \n",
            "no\n",
            "are you tired? \n",
            "no\n",
            "are you tired? \n",
            "no\n",
            "congratulations\n"
          ],
          "name": "stdout"
        }
      ]
    },
    {
      "cell_type": "markdown",
      "metadata": {
        "id": "kz5B1oxqZyhU"
      },
      "source": [
        "6.Write a Python program to find those numbers which are divisible by 7 and multiple of 5, between 1500 and 2700 (both included)."
      ]
    },
    {
      "cell_type": "code",
      "metadata": {
        "id": "qzD3FzZOUqjI",
        "colab": {
          "base_uri": "https://localhost:8080/"
        },
        "outputId": "3fd19c6a-3ee9-41fd-87c1-5ef3e96ea916"
      },
      "source": [
        "for i in range(1500,2701):\n",
        "  if i%7==0 and i%5==0:\n",
        "    print(i)"
      ],
      "execution_count": null,
      "outputs": [
        {
          "output_type": "stream",
          "text": [
            "1505\n",
            "1540\n",
            "1575\n",
            "1610\n",
            "1645\n",
            "1680\n",
            "1715\n",
            "1750\n",
            "1785\n",
            "1820\n",
            "1855\n",
            "1890\n",
            "1925\n",
            "1960\n",
            "1995\n",
            "2030\n",
            "2065\n",
            "2100\n",
            "2135\n",
            "2170\n",
            "2205\n",
            "2240\n",
            "2275\n",
            "2310\n",
            "2345\n",
            "2380\n",
            "2415\n",
            "2450\n",
            "2485\n",
            "2520\n",
            "2555\n",
            "2590\n",
            "2625\n",
            "2660\n",
            "2695\n"
          ],
          "name": "stdout"
        }
      ]
    },
    {
      "cell_type": "markdown",
      "metadata": {
        "id": "WtGiCGVWdh27"
      },
      "source": [
        "7.Print square of all numbers between 10 to 20 except even numbers"
      ]
    },
    {
      "cell_type": "code",
      "metadata": {
        "colab": {
          "base_uri": "https://localhost:8080/"
        },
        "id": "RePV6gzXc0Tw",
        "outputId": "6a6c1ab0-eb29-4ba7-e9b9-e7c9856719fa"
      },
      "source": [
        "for j in range(10,21):\n",
        "  flag=False\n",
        "  for i in range(2,j):\n",
        "    if (j % i) == 0:\n",
        "      flag=True\n",
        "  if flag:\n",
        "    print(j)\n"
      ],
      "execution_count": null,
      "outputs": [
        {
          "output_type": "stream",
          "text": [
            "10\n",
            "12\n",
            "14\n",
            "15\n",
            "16\n",
            "18\n",
            "20\n"
          ],
          "name": "stdout"
        }
      ]
    },
    {
      "cell_type": "markdown",
      "metadata": {
        "id": "dv7crE7Qg8jc"
      },
      "source": [
        "8.Your Marks for five Test(test1 to test5) looks like this,\n",
        "\n",
        "marks_list = [65, 75, 2100, 95, 83]\n",
        "\n",
        "Write a program that asks you to enter marks and program should tell you in which test that expense occurred. If expense is not found then it should print that as well."
      ]
    },
    {
      "cell_type": "code",
      "metadata": {
        "colab": {
          "base_uri": "https://localhost:8080/"
        },
        "id": "tv48t243fuuN",
        "outputId": "8c3d47f5-bdcf-47e7-b612-13ced65743e6"
      },
      "source": [
        "marks_list = [65, 75, 2100, 95, 83]\n",
        "l=[]\n",
        "for item in marks_list:\n",
        "  g=int(input(\"enter marks \"))\n",
        "  if item == g:\n",
        "    #expence not found\n",
        "    print(item)\n",
        "  else:\n",
        "    #expence found\n",
        "    print(\"Expence found\")\n",
        "  "
      ],
      "execution_count": null,
      "outputs": [
        {
          "output_type": "stream",
          "text": [
            "enter marks 65\n",
            "65\n",
            "enter marks 75\n",
            "75\n",
            "enter marks 2100\n",
            "2100\n",
            "enter marks 93\n",
            "Expence found\n",
            "enter marks 94\n",
            "Expence found\n"
          ],
          "name": "stdout"
        }
      ]
    },
    {
      "cell_type": "code",
      "metadata": {
        "id": "XizEjD7pi-1X"
      },
      "source": [
        ""
      ],
      "execution_count": null,
      "outputs": []
    }
  ]
}