{
  "nbformat": 4,
  "nbformat_minor": 0,
  "metadata": {
    "colab": {
      "name": "Copy of Task2(mansi).ipynb",
      "provenance": [],
      "collapsed_sections": [],
      "include_colab_link": true
    },
    "kernelspec": {
      "name": "python3",
      "display_name": "Python 3"
    },
    "language_info": {
      "name": "python"
    }
  },
  "cells": [
    {
      "cell_type": "markdown",
      "metadata": {
        "id": "view-in-github",
        "colab_type": "text"
      },
      "source": [
        "<a href=\"https://colab.research.google.com/github/khushalsinghshekhawat/khushal/blob/main/Task2(khushal).ipynb\" target=\"_parent\"><img src=\"https://colab.research.google.com/assets/colab-badge.svg\" alt=\"Open In Colab\"/></a>"
      ]
    },
    {
      "cell_type": "markdown",
      "metadata": {
        "id": "-joFnloUd4R4"
      },
      "source": [
        "##**khushal singh shekhawat**\n",
        "## **GO_STP_8909**"
      ]
    },
    {
      "cell_type": "markdown",
      "metadata": {
        "id": "effSdTtXeGT9"
      },
      "source": [
        "Q1. Is a list mutable? \n",
        "Ans. Yes, list is a Mutable Data type.\n",
        "For e.g."
      ]
    },
    {
      "cell_type": "code",
      "metadata": {
        "colab": {
          "base_uri": "https://localhost:8080/"
        },
        "id": "L-jtEdwneyod",
        "outputId": "53d5061f-d3ce-417f-d1ff-a7ca8ad2b707"
      },
      "source": [
        "l=[5,6,7,8,9]\n",
        "print(l)"
      ],
      "execution_count": null,
      "outputs": [
        {
          "output_type": "stream",
          "text": [
            "[5, 6, 7, 8, 9]\n"
          ],
          "name": "stdout"
        }
      ]
    },
    {
      "cell_type": "code",
      "metadata": {
        "colab": {
          "base_uri": "https://localhost:8080/"
        },
        "id": "UqGVeh_Ue26b",
        "outputId": "4b258d4f-6d58-41b3-f5d6-893ced3183c7"
      },
      "source": [
        "l[2]=45\n",
        "print(l)"
      ],
      "execution_count": null,
      "outputs": [
        {
          "output_type": "stream",
          "text": [
            "[5, 6, 45, 8, 9]\n"
          ],
          "name": "stdout"
        }
      ]
    },
    {
      "cell_type": "markdown",
      "metadata": {
        "id": "65Wf1-SxfMu-"
      },
      "source": [
        "Q2. Does a list need to be homogeneous?\n",
        "\n",
        "Ans. List need not necessarily homogeneous, it works even if it is heterogeneous.\n",
        "For e.g."
      ]
    },
    {
      "cell_type": "code",
      "metadata": {
        "colab": {
          "base_uri": "https://localhost:8080/"
        },
        "id": "wAuSXWJKfaMr",
        "outputId": "ab787f56-88eb-4fa3-ca7e-bd0f53d80875"
      },
      "source": [
        "l=['0',1,'python',False]\n",
        "print(l)"
      ],
      "execution_count": null,
      "outputs": [
        {
          "output_type": "stream",
          "text": [
            "['0', 1, 'python', False]\n"
          ],
          "name": "stdout"
        }
      ]
    },
    {
      "cell_type": "markdown",
      "metadata": {
        "id": "73grPl6Rf2b1"
      },
      "source": [
        "Q3. What is the difference between a list and a tuple?\n",
        "\n",
        "Ans. The Major difference between a list and a tuple is that a list is mutable data type that means any element of a list can be modified whereas tuple is immutable data type that means we cannot modify it after declaring it once."
      ]
    },
    {
      "cell_type": "markdown",
      "metadata": {
        "id": "r20Bav2fhiLm"
      },
      "source": [
        "Q4. How to find the number of elements in the list?"
      ]
    },
    {
      "cell_type": "code",
      "metadata": {
        "colab": {
          "base_uri": "https://localhost:8080/"
        },
        "id": "NDGare8DhxXT",
        "outputId": "2873314e-98f5-40de-8cdc-0dc5b315048b"
      },
      "source": [
        "#1. using in built function\n",
        "l=[1,2,3,4,5,6]\n",
        "n=len(l)\n",
        "print('Number of elements in the list =' ,n)"
      ],
      "execution_count": null,
      "outputs": [
        {
          "output_type": "stream",
          "text": [
            "Number of elements in the list = 6\n"
          ],
          "name": "stdout"
        }
      ]
    },
    {
      "cell_type": "markdown",
      "metadata": {
        "id": "QYr9oDGDirJu"
      },
      "source": [
        "Q5. How to check whether the list is empty or not?"
      ]
    },
    {
      "cell_type": "code",
      "metadata": {
        "colab": {
          "base_uri": "https://localhost:8080/"
        },
        "id": "AEOXNb9gGj1i",
        "outputId": "53c6ea11-9465-445d-870f-b18bb45b8ef5"
      },
      "source": [
        "lis = []\n",
        "if len(lis) == 0:\n",
        "  print('The list is empty')\n",
        "else:\n",
        "  print('The list is not empty')"
      ],
      "execution_count": null,
      "outputs": [
        {
          "output_type": "stream",
          "text": [
            "The list is empty\n"
          ],
          "name": "stdout"
        }
      ]
    },
    {
      "cell_type": "markdown",
      "metadata": {
        "id": "aG8FU010IDiT"
      },
      "source": [
        "Q6. How to find the first and last element of the list?"
      ]
    },
    {
      "cell_type": "code",
      "metadata": {
        "colab": {
          "base_uri": "https://localhost:8080/"
        },
        "id": "imtENNtwIFBo",
        "outputId": "1bfdbf61-d8a4-4fea-ef58-39feaaa9e2a1"
      },
      "source": [
        "l = [10,20,30,40,50,60]\n",
        "print('First element of the list = ', l[0])\n",
        "print('Last element of the list = ', l[-1])"
      ],
      "execution_count": null,
      "outputs": [
        {
          "output_type": "stream",
          "text": [
            "First element of the list =  10\n",
            "Last element of the list =  60\n"
          ],
          "name": "stdout"
        }
      ]
    },
    {
      "cell_type": "markdown",
      "metadata": {
        "id": "2DRJjbVaJBID"
      },
      "source": [
        "Q7. How to find the largest and lowest value in the list?"
      ]
    },
    {
      "cell_type": "code",
      "metadata": {
        "colab": {
          "base_uri": "https://localhost:8080/"
        },
        "id": "hnImakYCJY92",
        "outputId": "5967cc1d-9402-428b-9887-dcc8512c7213"
      },
      "source": [
        "l = []\n",
        "num = int(input('Enter number of elements in the list: '))\n",
        "for n in range(num):\n",
        "    nums = int(input('Enter the number: '))\n",
        "    l.append(nums)\n",
        "print(\"Maximum element in the list is :\", max(l), \"\\nMinimum element in the list is :\", min(l))"
      ],
      "execution_count": null,
      "outputs": [
        {
          "output_type": "stream",
          "text": [
            "Enter number of elements in the list: 3\n",
            "Enter the number: 10\n",
            "Enter the number: 3\n",
            "Enter the number: 56\n",
            "Maximum element in the list is : 56 \n",
            "Minimum element in the list is : 3\n"
          ],
          "name": "stdout"
        }
      ]
    },
    {
      "cell_type": "markdown",
      "metadata": {
        "id": "3VGPyHPqKy5g"
      },
      "source": [
        "Q8. How to access elements of the list?\n",
        "\n",
        "Ans. It can be accessed through index as below:"
      ]
    },
    {
      "cell_type": "code",
      "metadata": {
        "colab": {
          "base_uri": "https://localhost:8080/"
        },
        "id": "la7RUqS8J5L_",
        "outputId": "6d97f45a-2430-4344-8d9c-54cdd9b8e89b"
      },
      "source": [
        "l = [10,20,30,40,50]\n",
        "print('First element = ',l[0])\n",
        "print('Second element = ',l[1])\n",
        "print('Third element = ',l[2])\n",
        "print('Fourth element = ',l[3])\n",
        "print('Fifth element = ',l[4])"
      ],
      "execution_count": null,
      "outputs": [
        {
          "output_type": "stream",
          "text": [
            "First element =  10\n",
            "Second element =  20\n",
            "Third element =  30\n",
            "Fourth element =  40\n",
            "Fifth element =  50\n"
          ],
          "name": "stdout"
        }
      ]
    },
    {
      "cell_type": "markdown",
      "metadata": {
        "id": "5JYovF1AMHKY"
      },
      "source": [
        "Q9. Remove elements in a list before a specific index."
      ]
    },
    {
      "cell_type": "code",
      "metadata": {
        "colab": {
          "base_uri": "https://localhost:8080/"
        },
        "id": "RP1cUeDML9Sq",
        "outputId": "e9fca381-07e4-4a58-a34d-c8e01fa58962"
      },
      "source": [
        "l=[1,2,3,4,5,6]\n",
        "del(l[0:2])\n",
        "print(l)"
      ],
      "execution_count": null,
      "outputs": [
        {
          "output_type": "stream",
          "text": [
            "[3, 4, 5, 6]\n"
          ],
          "name": "stdout"
        }
      ]
    },
    {
      "cell_type": "markdown",
      "metadata": {
        "id": "LHZpDd0GM7xX"
      },
      "source": [
        "Q10. Remove elements in a list between 2 indices."
      ]
    },
    {
      "cell_type": "code",
      "metadata": {
        "colab": {
          "base_uri": "https://localhost:8080/"
        },
        "id": "95bP7MPJMo5M",
        "outputId": "423a48a4-bd62-4937-c94d-5a76d3def300"
      },
      "source": [
        "l=[1,2,3,4,5,6]\n",
        "del(l[1:4])\n",
        "print(l)"
      ],
      "execution_count": null,
      "outputs": [
        {
          "output_type": "stream",
          "text": [
            "[1, 5, 6]\n"
          ],
          "name": "stdout"
        }
      ]
    },
    {
      "cell_type": "markdown",
      "metadata": {
        "id": "kF4n-0FxNWEg"
      },
      "source": [
        "Q11. Return every 2nd element in a list between 2 indices."
      ]
    },
    {
      "cell_type": "code",
      "metadata": {
        "colab": {
          "base_uri": "https://localhost:8080/"
        },
        "id": "a1g7n5BYNIP9",
        "outputId": "cc8515e4-9396-4b01-c07c-e3769e7a19fe"
      },
      "source": [
        "l=[3,4,5,6,7,8,9,2]\n",
        "print('new list (between 1st and 6th ele)',l[1:6:2])"
      ],
      "execution_count": null,
      "outputs": [
        {
          "output_type": "stream",
          "text": [
            "new list (between 1st and 6th ele) [4, 6, 8]\n"
          ],
          "name": "stdout"
        }
      ]
    },
    {
      "cell_type": "markdown",
      "metadata": {
        "id": "tQwoUfqAN-98"
      },
      "source": [
        "Q12. Get the first element from each nested list in a list."
      ]
    },
    {
      "cell_type": "code",
      "metadata": {
        "colab": {
          "base_uri": "https://localhost:8080/"
        },
        "id": "txLD88FXNzcf",
        "outputId": "8324a448-7e68-449a-ef4c-a50e24181bcc"
      },
      "source": [
        "lst = [['python', 1], ['java', 'c', \"net\"], [23,7,12]]\n",
        "print(\"Given List is:\\n\",lst)\n",
        "print(\"First element from each nested list:\\n\")\n",
        "for i in lst:\n",
        "   print((i[0]))"
      ],
      "execution_count": null,
      "outputs": [
        {
          "output_type": "stream",
          "text": [
            "Given List is:\n",
            " [['python', 1], ['java', 'c', 'net'], [23, 7, 12]]\n",
            "First element from each nested list:\n",
            "\n",
            "python\n",
            "java\n",
            "23\n"
          ],
          "name": "stdout"
        }
      ]
    },
    {
      "cell_type": "markdown",
      "metadata": {
        "id": "-iTcAusLPwzy"
      },
      "source": [
        "Q13. How to modify elements of the list?\n",
        "\n",
        "Ans. Elements can be modified using index of the list , for e.g."
      ]
    },
    {
      "cell_type": "code",
      "metadata": {
        "colab": {
          "base_uri": "https://localhost:8080/"
        },
        "id": "L0CLCLe9O_NC",
        "outputId": "526e932e-4c22-4997-dce6-597be50c9a41"
      },
      "source": [
        "l1 = [0,1,\"hey\",'hi',\"45\",6]\n",
        "print('List before modification : ',l1)\n",
        "\n",
        "l1[4] = \"bye\"\n",
        "l1[1] = 65\n",
        "print('List after modification : ',l1)"
      ],
      "execution_count": null,
      "outputs": [
        {
          "output_type": "stream",
          "text": [
            "List before modification :  [0, 1, 'hey', 'hi', '45', 6]\n",
            "List after modification :  [0, 65, 'hey', 'hi', 'bye', 6]\n"
          ],
          "name": "stdout"
        }
      ]
    },
    {
      "cell_type": "markdown",
      "metadata": {
        "id": "MHhHFbg9SDnN"
      },
      "source": [
        "Q14. How to concatenate two lists?"
      ]
    },
    {
      "cell_type": "code",
      "metadata": {
        "colab": {
          "base_uri": "https://localhost:8080/"
        },
        "id": "NnFQ9hVaSR1F",
        "outputId": "66e1d5fe-b1db-4f70-8d77-16c77ebb0e7f"
      },
      "source": [
        "l1 = [0,1,2,3,4]\n",
        "l2 = [5,6,7,8,9]\n",
        "l3 = l1+l2\n",
        "print(l3)"
      ],
      "execution_count": null,
      "outputs": [
        {
          "output_type": "stream",
          "text": [
            "[0, 1, 2, 3, 4, 5, 6, 7, 8, 9]\n"
          ],
          "name": "stdout"
        }
      ]
    },
    {
      "cell_type": "markdown",
      "metadata": {
        "id": "EXudr7nESzZa"
      },
      "source": [
        "Q15. How to add two lists element-wise in python?"
      ]
    },
    {
      "cell_type": "code",
      "metadata": {
        "colab": {
          "base_uri": "https://localhost:8080/"
        },
        "id": "TIsODhopQ4z6",
        "outputId": "c707b832-a006-4043-e19b-e00a12a2ff56"
      },
      "source": [
        "list1 = [1, 2, 3]\n",
        "list2 = [4, 5, 6]\n",
        "sum_list = []\n",
        "\n",
        "\n",
        "for i in range(0,len(list1)):\n",
        "    sum_list.append(list1[i]+list2[i])\n",
        "\n",
        "print(sum_list)"
      ],
      "execution_count": null,
      "outputs": [
        {
          "output_type": "stream",
          "text": [
            "[5, 7, 9]\n"
          ],
          "name": "stdout"
        }
      ]
    },
    {
      "cell_type": "markdown",
      "metadata": {
        "id": "aFzeaMz0UhIF"
      },
      "source": [
        "Q16. Difference between del and clear?\n",
        "\n",
        "Ans. Clear () function delete the all keys and values in the dictionary and leave the dictionary empty. While del <dict> delete the complete dictionary when we want to find deleted dictionary then it will give error that <dict> not defined."
      ]
    },
    {
      "cell_type": "markdown",
      "metadata": {
        "id": "DjYS0yNuVNYt"
      },
      "source": [
        "Q17. Difference between remove and pop?\n",
        "\n",
        "Ans. The pop() function will delete the last element from the list whereas the remove() function will delete a particular element by mentioning its index."
      ]
    },
    {
      "cell_type": "code",
      "metadata": {
        "colab": {
          "base_uri": "https://localhost:8080/"
        },
        "id": "A3E0agrCTh8b",
        "outputId": "b20c0c8e-6b17-48d4-cac2-e55d6a8e5b1e"
      },
      "source": [
        "l=[1,2,3,4]\n",
        "l.pop()\n",
        "print(\"After performing pop(): \", l)\n",
        "l.remove(1)\n",
        "print(\"After deleting first element: \", l)"
      ],
      "execution_count": null,
      "outputs": [
        {
          "output_type": "stream",
          "text": [
            "After performing pop():  [1, 2, 3]\n",
            "After deleting first element:  [2, 3]\n"
          ],
          "name": "stdout"
        }
      ]
    },
    {
      "cell_type": "markdown",
      "metadata": {
        "id": "DgCaPy3YW4cq"
      },
      "source": [
        "Q18. Difference between append and extend?\n",
        "\n",
        "Ans. append() adds a single element to the end of the list while . extend() can add multiple individual elements to the end of the list. append() takes a single element as argument while . extend() takes an iterable as argument"
      ]
    },
    {
      "cell_type": "markdown",
      "metadata": {
        "id": "jnLlATzHXmbn"
      },
      "source": [
        "Q19. Difference between indexing and Slicing?\n",
        "\n",
        "Ans. “Indexing” means referring to an element of an iterable by its position within the iterable. “Slicing” means getting a subset of elements from an iterable based on their indices."
      ]
    },
    {
      "cell_type": "markdown",
      "metadata": {
        "id": "gf8uxYL1f89K"
      },
      "source": [
        "Q20. Difference between sort and sorted?\n",
        "\n",
        "Ans. The primary difference between the list sort() function and the sorted() function is that the sort() function will modify the list it is called on. The sorted() function will create a new list containing a sorted version of the list it is given. The sorted() function will not modify the list passed as a parameter. If you want to sort a list but still have the original unsorted version, then you would use the sorted() function. If maintaining the original order of the list is unimportant, then you can call the sort() function on the list."
      ]
    },
    {
      "cell_type": "markdown",
      "metadata": {
        "id": "QTD-gYLjg2Ky"
      },
      "source": [
        "Q21. Difference between reverse and reversed?\n",
        "\n",
        "Ans. reverse() actually reverses the elements in the container. reversed() doesn't actually reverse anything, it merely returns an object that can be used to iterate over the container's elements in reverse order."
      ]
    },
    {
      "cell_type": "markdown",
      "metadata": {
        "id": "_YHGF7RBiRy5"
      },
      "source": [
        "Q22. Difference between copy and deepcopy?\n",
        "\n",
        "Ans. A deep copy creates a new object and recursively adds the copies of nested objects present in the original elements. However, we are going to create deep copy using deepcopy() function present in copy module whereas copy() function simply copies the elements."
      ]
    },
    {
      "cell_type": "markdown",
      "metadata": {
        "id": "dMEWUFYwj6V4"
      },
      "source": [
        "Q23. How to remove duplicate elements in the list?\n",
        "\n",
        "Ans. To remove duplicates from a given list, you can make use of an empty temporary list. For that first, you will have to loop through the list having duplicates and add the unique items to the temporary list. Later the temporary list is assigned to the main list."
      ]
    },
    {
      "cell_type": "code",
      "metadata": {
        "id": "hqd2SSfSVr09",
        "colab": {
          "base_uri": "https://localhost:8080/"
        },
        "outputId": "3ffd3040-d08a-4ee9-f0de-3ef23fc9da11"
      },
      "source": [
        "my_list = [1, 2, 3, 1, 2, 4, 5, 4 ,6, 2]\n",
        "print(\"List Before \", my_list)\n",
        "temp_list = []\n",
        "\n",
        "for i in my_list:\n",
        "    if i not in temp_list:\n",
        "        temp_list.append(i)\n",
        "\n",
        "my_list = temp_list\n",
        "\n",
        "print(\"List After removing duplicates \", my_list)"
      ],
      "execution_count": null,
      "outputs": [
        {
          "output_type": "stream",
          "text": [
            "List Before  [1, 2, 3, 1, 2, 4, 5, 4, 6, 2]\n",
            "List After removing duplicates  [1, 2, 3, 4, 5, 6]\n"
          ],
          "name": "stdout"
        }
      ]
    },
    {
      "cell_type": "markdown",
      "metadata": {
        "id": "sjiEGKUCmFBo"
      },
      "source": [
        "Q24. How to find an index of an element in the python list?\n",
        "\n",
        "Ans. list.index(element, start, end) : this is the syntax we can use to find  the index of particular range of elements in the list."
      ]
    },
    {
      "cell_type": "markdown",
      "metadata": {
        "id": "cjeMtGyrnlyV"
      },
      "source": [
        "Q25. How to find the occurrences of an element in the python list?\n",
        "\n",
        "Ans. count() function is used to find how many times an element has appeared in the list."
      ]
    },
    {
      "cell_type": "markdown",
      "metadata": {
        "id": "oCLkKjxZzDTx"
      },
      "source": [
        "Q26. How to insert an item at a given position?"
      ]
    },
    {
      "cell_type": "code",
      "metadata": {
        "id": "gLJgx6w6l3iz",
        "colab": {
          "base_uri": "https://localhost:8080/"
        },
        "outputId": "38196ac8-e839-490b-8d5f-df31fb59686b"
      },
      "source": [
        "l=[1,2,3,4,5]\n",
        "print('List before: ',l)\n",
        "l.insert(1,50)\n",
        "print('List after: ', l)"
      ],
      "execution_count": null,
      "outputs": [
        {
          "output_type": "stream",
          "text": [
            "List before:  [1, 2, 3, 4, 5]\n",
            "List after:  [1, 50, 2, 3, 4, 5]\n"
          ],
          "name": "stdout"
        }
      ]
    },
    {
      "cell_type": "markdown",
      "metadata": {
        "id": "8Z6REM_l0BAD"
      },
      "source": [
        "Q27. How to check if an item is in the list?"
      ]
    },
    {
      "cell_type": "code",
      "metadata": {
        "colab": {
          "base_uri": "https://localhost:8080/"
        },
        "id": "lWlDOyvCzaO5",
        "outputId": "aed53d03-da61-4f1a-f14e-fd00565cc0e0"
      },
      "source": [
        "l=[1,2,3,4]\n",
        "print(l)"
      ],
      "execution_count": null,
      "outputs": [
        {
          "output_type": "stream",
          "text": [
            "[1, 2, 3, 4]\n"
          ],
          "name": "stdout"
        }
      ]
    },
    {
      "cell_type": "code",
      "metadata": {
        "colab": {
          "base_uri": "https://localhost:8080/"
        },
        "id": "7qaeBOoY0nt9",
        "outputId": "d3c7a0b7-14d9-476a-fa2c-578bfa222fe3"
      },
      "source": [
        "for i in l:\n",
        "    if(i == 4) :\n",
        "        print (\"Element Exists\")\n",
        "  \n"
      ],
      "execution_count": null,
      "outputs": [
        {
          "output_type": "stream",
          "text": [
            "Element Exists\n"
          ],
          "name": "stdout"
        }
      ]
    },
    {
      "cell_type": "markdown",
      "metadata": {
        "id": "3EmvAekz2MYn"
      },
      "source": [
        "Q28. How to flatten a list in python?\n",
        "\n",
        "Flattening a list of lists entails converting a 2D list into a 1D list by un-nesting each list item stored in the list of lists - i.e., converting [[1, 2, 3], [4, 5, 6], [7, 8, 9]] into [1, 2, 3, 4, 5, 6, 7, 8, 9]."
      ]
    },
    {
      "cell_type": "code",
      "metadata": {
        "id": "7E7tVizC0pxA",
        "colab": {
          "base_uri": "https://localhost:8080/"
        },
        "outputId": "17c5ec38-b030-441b-c8fc-fe0a2123ab45"
      },
      "source": [
        "mylist = [[1,2,3],[4,5,6],[7,8,9]]\n",
        "print(\"Original List : \",mylist)\n",
        "print(\"Flattened List : \",end=\" \")\n",
        "for lst in mylist:\n",
        "  for val in lst:\n",
        "    print(val, end= \" \")"
      ],
      "execution_count": null,
      "outputs": [
        {
          "output_type": "stream",
          "text": [
            "Original List :  [[1, 2, 3], [4, 5, 6], [7, 8, 9]]\n",
            "Flattened List :  1 2 3 4 5 6 7 8 9 "
          ],
          "name": "stdout"
        }
      ]
    },
    {
      "cell_type": "markdown",
      "metadata": {
        "id": "q6MB3DIALP8o"
      },
      "source": [
        "Q29. How to convert python list to other data structures like set, tuple, dictionary?"
      ]
    },
    {
      "cell_type": "code",
      "metadata": {
        "colab": {
          "base_uri": "https://localhost:8080/"
        },
        "id": "SfI_1TThK6bX",
        "outputId": "23ba24da-7192-4bc0-c5ef-62cc8e17ed66"
      },
      "source": [
        "l=[1,2,3,4,5]\n",
        "print(set(l))\n",
        "\n",
        "print(tuple(l))\n",
        "\n",
        "print(dict({\"val\":l}))"
      ],
      "execution_count": null,
      "outputs": [
        {
          "output_type": "stream",
          "text": [
            "{1, 2, 3, 4, 5}\n",
            "(1, 2, 3, 4, 5)\n",
            "{'val': [1, 2, 3, 4, 5]}\n"
          ],
          "name": "stdout"
        }
      ]
    },
    {
      "cell_type": "markdown",
      "metadata": {
        "id": "yNmmv3DdMpBp"
      },
      "source": [
        "Q30. How to apply a function to all items in the list?\n",
        "\n",
        "Ans. map() function is used to apply a function to all the elements present in the list."
      ]
    },
    {
      "cell_type": "code",
      "metadata": {
        "colab": {
          "base_uri": "https://localhost:8080/"
        },
        "id": "29wLUk6ELxNk",
        "outputId": "c35c1401-7a5a-4087-9ad4-75d82d8229b1"
      },
      "source": [
        "a_list = [\"a\", \"b\", \"c\"]\n",
        "\n",
        "map_object = map(str.upper, a_list)\n",
        "#capitalize each letter\n",
        "\n",
        "new_list = list(map_object)\n",
        "\n",
        "print(new_list)"
      ],
      "execution_count": null,
      "outputs": [
        {
          "output_type": "stream",
          "text": [
            "['A', 'B', 'C']\n"
          ],
          "name": "stdout"
        }
      ]
    },
    {
      "cell_type": "markdown",
      "metadata": {
        "id": "y8BW28S8NUth"
      },
      "source": [
        "Q31. How to filter the elements based on a function in a python list?\n",
        "\n",
        "Ans. Python has a built-in function called filter() that allows you to filter a list (or a tuple) in a more beautiful way. The filter() function iterates over the elements of the list and applies the fn() function to each element. It returns an iterator for the elements where the fn() returns True ."
      ]
    },
    {
      "cell_type": "code",
      "metadata": {
        "colab": {
          "base_uri": "https://localhost:8080/"
        },
        "id": "kKjM4-XnNQVj",
        "outputId": "6f74c838-f4c9-409d-e452-06a8af645b60"
      },
      "source": [
        "scores = [70, 60, 80, 90, 50]\n",
        "\n",
        "filtered = []\n",
        "\n",
        "for score in scores:\n",
        "    if score >= 70:\n",
        "        filtered.append(score)\n",
        "\n",
        "print(filtered)"
      ],
      "execution_count": null,
      "outputs": [
        {
          "output_type": "stream",
          "text": [
            "[70, 80, 90]\n"
          ],
          "name": "stdout"
        }
      ]
    },
    {
      "cell_type": "markdown",
      "metadata": {
        "id": "GFLpPWUgNuZf"
      },
      "source": [
        "Q32. How python lists are stored in memory?\n",
        "\n",
        "Ans. Instead of storing values in the memory space reserved by the variable, Python has the variable refer to the value. Similar to pointers in C, variables in Python refer to values (or objects) stored somewhere in memory."
      ]
    }
  ]
}